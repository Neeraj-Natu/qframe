{
 "cells": [
  {
   "cell_type": "code",
   "execution_count": 1,
   "metadata": {},
   "outputs": [
    {
     "ename": "ERROR",
     "evalue": "repl.go:10:2: error loading package \"github.com/tobgu/qframe/contrib/gonum/qplot\" metadata, maybe you need to download (go get), compile (go build) and install (go install) it? can't find import: \"github.com/tobgu/qframe/contrib/gonum/qplot\"",
     "output_type": "error",
     "traceback": [
      "repl.go:10:2: error loading package \"github.com/tobgu/qframe/contrib/gonum/qplot\" metadata, maybe you need to download (go get), compile (go build) and install (go install) it? can't find import: \"github.com/tobgu/qframe/contrib/gonum/qplot\""
     ]
    }
   ],
   "source": [
    "import (\n",
    "\t\"os\"\n",
    "\n",
    "\t\"gonum.org/v1/plot\"\n",
    "\t\"gonum.org/v1/plot/plotter\"\n",
    "\t\"gonum.org/v1/plot/plotutil\"\n",
    "\t\"gonum.org/v1/plot/vg\"\n",
    "\n",
    "\t\"github.com/tobgu/qframe\"\n",
    "\t\"github.com/tobgu/qframe/contrib/gonum/qplot\"\n",
    ")\n",
    "\n",
    "// Create a simple QFrame\n",
    "qf := qframe.New(map[string]interface{}{\n",
    "\t\"A\": []int{1, 2, 3, 4, 5},\n",
    "\t\"B\": []float64{0.9, 1.9, 2.9, 3.9, 4.9},\n",
    "})\n",
    "\n",
    "// Create a new configuration\n",
    "cfg := qplot.NewConfig(\n",
    "\tqplot.PlotConfig(\n",
    "\t\tfunc(plt *plot.Plot) {\n",
    "\t\t\tplt.Title.Text = \"My Cool Chart\"\n",
    "\t\t},\n",
    "\t),\n",
    "\tqplot.Plotter(\n",
    "\t\t// Extract values from column A.\n",
    "\t\tqplot.BarPlotter(\"A\", 24*vg.Millimeter,\n",
    "\t\t\t// Configure the color and various aspects\n",
    "\t\t\t// of the BarChart.\n",
    "\t\t\tfunc(bar *plotter.BarChart) {\n",
    "                bar.Offset = 24*vg.Millimeter\n",
    "\t\t\t\tbar.Color = plotutil.Color(1)\n",
    "\t\t\t}),\n",
    "\t),\n",
    "\tqplot.Plotter(\n",
    "\t\tqplot.LinePlotter(\"A\", \"B\",\n",
    "\t\t\t// Configure the color and various aspects\n",
    "\t\t\t// of the Line.\n",
    "\t\t\tfunc(line *plotter.Line) {\n",
    "                line.Width = 2*vg.Millimeter\n",
    "\t\t\t\tline.Color = plotutil.Color(2)\n",
    "\t\t\t})),\n",
    ")\n",
    "// Create a new QPlot\n",
    "qp := qplot.NewQPlot(qf, cfg)\n",
    "display.PNG(qp.MustBytes())\n",
    "\n"
   ]
  },
  {
   "cell_type": "code",
   "execution_count": null,
   "metadata": {},
   "outputs": [],
   "source": []
  },
  {
   "cell_type": "code",
   "execution_count": null,
   "metadata": {},
   "outputs": [],
   "source": []
  },
  {
   "cell_type": "code",
   "execution_count": null,
   "metadata": {},
   "outputs": [],
   "source": []
  }
 ],
 "metadata": {
  "kernelspec": {
   "display_name": "Go",
   "language": "go",
   "name": "gophernotes"
  },
  "language_info": {
   "codemirror_mode": "",
   "file_extension": ".go",
   "mimetype": "",
   "name": "go",
   "nbconvert_exporter": "",
   "pygments_lexer": "",
   "version": "go1.10.3"
  }
 },
 "nbformat": 4,
 "nbformat_minor": 2
}
